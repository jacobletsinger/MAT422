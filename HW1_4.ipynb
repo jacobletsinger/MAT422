{
  "nbformat": 4,
  "nbformat_minor": 0,
  "metadata": {
    "colab": {
      "provenance": [],
      "authorship_tag": "ABX9TyPKosuldZKEgq9piVyKF30h",
      "include_colab_link": true
    },
    "kernelspec": {
      "name": "python3",
      "display_name": "Python 3"
    },
    "language_info": {
      "name": "python"
    }
  },
  "cells": [
    {
      "cell_type": "markdown",
      "metadata": {
        "id": "view-in-github",
        "colab_type": "text"
      },
      "source": [
        "<a href=\"https://colab.research.google.com/github/jacobletsinger/MAT422/blob/main/HW1_4.ipynb\" target=\"_parent\"><img src=\"https://colab.research.google.com/assets/colab-badge.svg\" alt=\"Open In Colab\"/></a>"
      ]
    },
    {
      "cell_type": "markdown",
      "source": [
        "# Homework 4\n",
        "\n",
        "1.4.1. Singular value decomposition\n",
        "\n",
        "1.4.2. Low-rank matrix approximations\n",
        "\n",
        "1.4.3. Principal component analysis\n"
      ],
      "metadata": {
        "id": "ld25pYEwd3b2"
      }
    },
    {
      "cell_type": "markdown",
      "source": [
        "### 1.4.1. Singular value decomposition\n",
        "\n",
        "Any $m \\times n$ matrix can be factored into a rotation followed by a scaling which is followed by and second rotation. Let $U$ be an $m \\times m$, let $V$ be an $n \\times n$, and let $S$ be an $m \\times n$ diagonal matrix with not negative components, then $M = USV$. There are functions in numpy that allow one to do this.\n"
      ],
      "metadata": {
        "id": "Qz-5D32ud8ms"
      }
    },
    {
      "cell_type": "code",
      "execution_count": 23,
      "metadata": {
        "id": "Pg5QSKXYduAc",
        "colab": {
          "base_uri": "https://localhost:8080/"
        },
        "outputId": "8dfc1ec1-734d-44ea-d70e-e345ecb65131"
      },
      "outputs": [
        {
          "output_type": "stream",
          "name": "stdout",
          "text": [
            "[[-0.70420785  0.03359741 -0.41297086 -0.57655666]\n",
            " [-0.19417524 -0.41503827  0.8095825  -0.36689969]\n",
            " [-0.53925762 -0.48968563 -0.07157857  0.68138514]\n",
            " [-0.41903281  0.76604336  0.41098389  0.26207121]]\n",
            "[[15.0663738 +0.j  0.        +0.j  0.        +0.j]\n",
            " [ 0.        +0.j  4.07278522+0.j  0.        +0.j]\n",
            " [ 0.        +0.j  0.        +0.j  1.5546064 +0.j]\n",
            " [ 0.        +0.j  0.        +0.j  0.        +0.j]]\n",
            "[[-0.85587924  0.40458609 -0.32215032]\n",
            " [ 0.46564937  0.87388683 -0.13961549]\n",
            " [ 0.22503643 -0.26950309 -0.93633685]]\n",
            "[[ 9.00000000e+00+0.j -4.00000000e+00+0.j  4.00000000e+00+0.j]\n",
            " [ 2.00000000e+00+0.j -3.00000000e+00+0.j  1.12743204e-16+0.j]\n",
            " [ 6.00000000e+00+0.j -5.00000000e+00+0.j  3.00000000e+00+0.j]\n",
            " [ 7.00000000e+00+0.j  1.46679161e-15+0.j  1.00000000e+00+0.j]]\n"
          ]
        }
      ],
      "source": [
        "import numpy as np\n",
        "\n",
        "M = np.array([(9, -4,4),(2,-3,0),(6,-5,3),(7,0,1)])\n",
        "\n",
        "U, S_, V = np.linalg.svd(M)\n",
        "S = np.zeros((4, 3), dtype=complex)\n",
        "\n",
        "S[:3, :3] = np.diag(S_)\n",
        "\n",
        "\n",
        "print(U)\n",
        "print(S)\n",
        "print(V)\n",
        "print(np.dot(U, np.dot(S, V)))"
      ]
    },
    {
      "cell_type": "markdown",
      "source": [
        "### 1.4.2. Low-rank matrix approximations\n",
        "A low rank matrix approximation is the approximation of a given matrix with one of lower rank. This can be found using the components of an SVD transformation. In particular, the best rank $k$ approximation of a matrix $A$ is given by the sum\n",
        "\\begin{equation}\n",
        "A_k=\\sum_{i=1}^k \\sigma_i u_i v^T_i\n",
        "\\end{equation}\n",
        "\n",
        "where $u_i$, $\\sigma_i$ and $v_i$ are the $ith$ columns of $U$, $S$, and $V$ respectively and $A_k$ is the $kth$ column of the approximation."
      ],
      "metadata": {
        "id": "y0lnepTnd9Fz"
      }
    },
    {
      "cell_type": "code",
      "source": [
        "M = np.array([(9, -4,4),(2,-3,0),(6,-5,3),(7,0,1)])\n",
        "\n",
        "U, S_, V = np.linalg.svd(M)\n",
        "\n",
        "k = 3\n",
        "\n",
        "\n"
      ],
      "metadata": {
        "id": "t4QlArysd9zu"
      },
      "execution_count": null,
      "outputs": []
    },
    {
      "cell_type": "markdown",
      "source": [
        "### 1.4.3. Principal component analysis\n"
      ],
      "metadata": {
        "id": "wNAdppbNd9bO"
      }
    },
    {
      "cell_type": "code",
      "source": [],
      "metadata": {
        "id": "WmdfzRVjd-Mi"
      },
      "execution_count": null,
      "outputs": []
    }
  ]
}
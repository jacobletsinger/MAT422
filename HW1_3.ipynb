{
  "nbformat": 4,
  "nbformat_minor": 0,
  "metadata": {
    "colab": {
      "provenance": [],
      "include_colab_link": true
    },
    "kernelspec": {
      "name": "python3",
      "display_name": "Python 3"
    },
    "language_info": {
      "name": "python"
    }
  },
  "cells": [
    {
      "cell_type": "markdown",
      "metadata": {
        "id": "view-in-github",
        "colab_type": "text"
      },
      "source": [
        "<a href=\"https://colab.research.google.com/github/jacobletsinger/MAT422/blob/main/HW1_3.ipynb\" target=\"_parent\"><img src=\"https://colab.research.google.com/assets/colab-badge.svg\" alt=\"Open In Colab\"/></a>"
      ]
    },
    {
      "cell_type": "markdown",
      "source": [
        "# Homework 1.3\n",
        "\n",
        "1.3.1. QR decomposition\n",
        "\n",
        "1.3.2. Least-squares problems\n",
        "\n",
        "1.3.3. Linear regression\n"
      ],
      "metadata": {
        "id": "LywKax20d-4B"
      }
    },
    {
      "cell_type": "markdown",
      "source": [
        "### 1.3.1. QR decomposition\n",
        "\n",
        "Any square matrix $M$ can be decomposed into two pieces, an orthogonal matrix $Q$ and an upper triangular matrix $R$.\n",
        "\n",
        "\\begin{equation}\n",
        "  M = QR\n",
        "\\end{equation}\n",
        "\n",
        "The matrix $Q$ is equal to the Gram-Schmidt orthogonalization of $M$ and by using $Q^T = Q^{-1}$, the matrix $R = Q^T M$. Numpy has a function to do this, but the following uses the Gram-Schmidt process from last week."
      ],
      "metadata": {
        "id": "Mn6q56YYeFyA"
      }
    },
    {
      "cell_type": "code",
      "execution_count": 34,
      "metadata": {
        "colab": {
          "base_uri": "https://localhost:8080/"
        },
        "id": "LPxJnjGsd-Z7",
        "outputId": "31a9dbb1-6994-4b65-b86e-bf688fd6d5bc"
      },
      "outputs": [
        {
          "output_type": "stream",
          "name": "stdout",
          "text": [
            "[[ 0.9486833  -0.31622777  0.        ]\n",
            " [ 0.31622777  0.9486833   0.        ]\n",
            " [ 0.          0.          1.        ]] \n",
            " [[3.16227766e+00 2.52982213e+00 0.00000000e+00]\n",
            " [1.44328993e-15 1.26491106e+00 0.00000000e+00]\n",
            " [0.00000000e+00 0.00000000e+00 1.00000000e+00]]\n",
            "[[3. 2. 0.]\n",
            " [1. 2. 0.]\n",
            " [0. 0. 1.]]\n"
          ]
        }
      ],
      "source": [
        "import numpy as np\n",
        "import matplotlib.pyplot as plt\n",
        "\n",
        "\n",
        "def projection(a,b):\n",
        "  return np.multiply((np.dot(a,b) / (np.linalg.norm(a)**2)), a)\n",
        "\n",
        "def gram_schmidt(A):\n",
        "  V = np.float64(np.copy(A))\n",
        "  U = np.float64(np.copy(A))\n",
        "\n",
        "  for i in range(0, V.shape[1]):\n",
        "    v = V[:,i]\n",
        "\n",
        "    u = v\n",
        "    for k in range(0,i):\n",
        "      u -= projection(V[:,k],v)\n",
        "    U[:,i] = u / np.linalg.norm(u)\n",
        "\n",
        "  return U\n",
        "\n",
        "def QR_decomp(A):\n",
        "  Q = gram_schmidt(A)\n",
        "  R = Q.T * A\n",
        "  return Q, R\n",
        "\n",
        "\n",
        "M = np.asmatrix(([3,2,0],[1,2,0],[0,0,1]))\n",
        "Q, R = QR_decomp(M)\n",
        "\n",
        "print(Q,\"\\n\", R)\n",
        "print(np.matmul(Q, R))"
      ]
    },
    {
      "cell_type": "markdown",
      "source": [
        "### 1.3.2. Least-squares problems\n",
        "The least-squares problem is the problem of fitting a slope and y-intercept to a set of ordered pairs. It is the solution to the equation $Ax=b$ for a given matrix $A$ and vectors $x$ and $b$. Numpy has a function for solving this problem."
      ],
      "metadata": {
        "id": "WduCVXfXeIFV"
      }
    },
    {
      "cell_type": "code",
      "source": [
        "a = np.array(((1,0,1),(4,1,5),(0,0,-1)))\n",
        "b = np.array((0,1,1))\n",
        "\n",
        "least_squares = np.linalg.lstsq(a,b)\n",
        "print(least_squares[0])"
      ],
      "metadata": {
        "id": "-YizIxA5eNwD",
        "colab": {
          "base_uri": "https://localhost:8080/"
        },
        "outputId": "07ce5196-8080-4bf6-8778-d45d2fa23c8f"
      },
      "execution_count": 35,
      "outputs": [
        {
          "output_type": "stream",
          "name": "stdout",
          "text": [
            "[ 1.  2. -1.]\n"
          ]
        },
        {
          "output_type": "stream",
          "name": "stderr",
          "text": [
            "<ipython-input-35-1fb1a350f322>:4: FutureWarning: `rcond` parameter will change to the default of machine precision times ``max(M, N)`` where M and N are the input matrix dimensions.\n",
            "To use the future default and silence this warning we advise to pass `rcond=None`, to keep using the old, explicitly pass `rcond=-1`.\n",
            "  least_squares = np.linalg.lstsq(a,b)\n"
          ]
        }
      ]
    },
    {
      "cell_type": "markdown",
      "source": [
        "### 1.3.3. Linear regression\n",
        "Linear regression is the estimation of a set of data points with a linear fucntion. This is done using the solution least-squares problem."
      ],
      "metadata": {
        "id": "W0bOSm1CeJJO"
      }
    },
    {
      "cell_type": "code",
      "source": [
        "x = np.array(((1,2,3,4,5,6,7)))\n",
        "y = np.array(((1.5,2.8,4,2,6.5,7,5.9)))\n",
        "\n",
        "A = np.vstack([x, np.ones(len(x))]).T\n",
        "m, c = np.linalg.lstsq(A, y)[0]\n",
        "\n",
        "plt.scatter(x,y)\n",
        "plt.plot(x, m*x + c, \"-r\")\n"
      ],
      "metadata": {
        "id": "NFRGrPqEeOMG",
        "colab": {
          "base_uri": "https://localhost:8080/",
          "height": 501
        },
        "outputId": "a3bd3643-37b7-4834-cf55-eb49cc1cda8c"
      },
      "execution_count": 36,
      "outputs": [
        {
          "output_type": "stream",
          "name": "stderr",
          "text": [
            "<ipython-input-36-c39ec3a1395d>:5: FutureWarning: `rcond` parameter will change to the default of machine precision times ``max(M, N)`` where M and N are the input matrix dimensions.\n",
            "To use the future default and silence this warning we advise to pass `rcond=None`, to keep using the old, explicitly pass `rcond=-1`.\n",
            "  m, c = np.linalg.lstsq(A, y)[0]\n"
          ]
        },
        {
          "output_type": "execute_result",
          "data": {
            "text/plain": [
              "[<matplotlib.lines.Line2D at 0x7cf05da30a90>]"
            ]
          },
          "metadata": {},
          "execution_count": 36
        },
        {
          "output_type": "display_data",
          "data": {
            "text/plain": [
              "<Figure size 640x480 with 1 Axes>"
            ],
            "image/png": "[encoded data removed]"
          },
          "metadata": {}
        }
      ]
    }
  ]
}
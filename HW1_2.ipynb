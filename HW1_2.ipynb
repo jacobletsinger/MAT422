{
  "nbformat": 4,
  "nbformat_minor": 0,
  "metadata": {
    "colab": {
      "provenance": [],
      "toc_visible": true,
      "include_colab_link": true
    },
    "kernelspec": {
      "name": "python3",
      "display_name": "Python 3"
    },
    "language_info": {
      "name": "python"
    }
  },
  "cells": [
    {
      "cell_type": "markdown",
      "metadata": {
        "id": "view-in-github",
        "colab_type": "text"
      },
      "source": [
        "<a href=\"https://colab.research.google.com/github/jacobletsinger/MAT422/blob/main/HW1_2.ipynb\" target=\"_parent\"><img src=\"https://colab.research.google.com/assets/colab-badge.svg\" alt=\"Open In Colab\"/></a>"
      ]
    },
    {
      "cell_type": "markdown",
      "source": [
        "# Homework 1.2\n",
        "\n",
        "\n",
        "1.2.1. Linear spaces \\\\\n",
        "1.2.2. Orthogonality \\\\\n",
        "1.2.3. Gram–Schmidt process \\\\\n",
        "1.2.4. Eigenvalues and eigenvectors \\\\"
      ],
      "metadata": {
        "id": "V_f6RLMzws2e"
      }
    },
    {
      "cell_type": "markdown",
      "source": [
        "### 1.2.1 Linear Spaces"
      ],
      "metadata": {
        "id": "kp9zWBmIxWPI"
      }
    },
    {
      "cell_type": "code",
      "execution_count": null,
      "metadata": {
        "colab": {
          "base_uri": "https://localhost:8080/"
        },
        "id": "OjOchk0Zwki7",
        "outputId": "26400c99-860d-4e67-8261-41729c396cd8"
      },
      "outputs": [
        {
          "output_type": "stream",
          "name": "stdout",
          "text": [
            "[[ 0.    0.25  0.5   0.75  1.  ]\n",
            " [ 0.    0.    0.    0.    0.  ]\n",
            " [ 1.    1.    1.    1.    1.  ]\n",
            " [16.   16.   16.   16.   16.  ]]\n",
            "[array([[0, 1, 2, 3, 4],\n",
            "       [0, 1, 2, 3, 4],\n",
            "       [0, 1, 2, 3, 4],\n",
            "       [0, 1, 2, 3, 4],\n",
            "       [0, 1, 2, 3, 4]]), array([[1, 1, 1, 1, 1],\n",
            "       [2, 2, 2, 2, 2],\n",
            "       [4, 4, 4, 4, 4],\n",
            "       [6, 6, 6, 6, 6],\n",
            "       [5, 5, 5, 5, 5]])]\n"
          ]
        }
      ],
      "source": [
        "import numpy as np\n",
        "\n",
        "# Different arrays in numpy\n",
        "x = np.linspace(0, 1, 5)\n",
        "y = np.zeros(5)\n",
        "z = np.ones(5)\n",
        "t = np.full(5, 16)\n",
        "\n",
        "u = np.arange(0,5)\n",
        "v = np.empty_like(u)\n",
        "w = np.asarray([1,2,4,6,5])\n",
        "\n",
        "coords = np.array((x,y,z,t))\n",
        "coords2 = np.meshgrid(u,w)\n",
        "\n",
        "print(coords)\n",
        "print(coords2)"
      ]
    },
    {
      "cell_type": "code",
      "source": [
        "# Array manipulation and data access\n",
        "print(coords[0,4])\n",
        "print(coords[1])\n",
        "coords[2] = np.zeros(5)\n",
        "coords[2,3] = 1\n",
        "print(coords)\n",
        "\n",
        "\n",
        "print(coords2[0][4])\n",
        "print(coords2[1])\n",
        "print(coords2[1][2,3])\n"
      ],
      "metadata": {
        "colab": {
          "base_uri": "https://localhost:8080/"
        },
        "id": "wpdIR5Ze3Yt4",
        "outputId": "90b488aa-4d0c-419e-8df1-bce0d4ba59c5"
      },
      "execution_count": null,
      "outputs": [
        {
          "output_type": "stream",
          "name": "stdout",
          "text": [
            "1.0\n",
            "[0. 0. 0. 0. 0.]\n",
            "[[ 0.    0.25  0.5   0.75  1.  ]\n",
            " [ 0.    0.    0.    0.    0.  ]\n",
            " [ 0.    0.    0.    1.    0.  ]\n",
            " [16.   16.   16.   16.   16.  ]]\n",
            "[0 1 2 3 4]\n",
            "[[1 1 1 1 1]\n",
            " [2 2 2 2 2]\n",
            " [4 4 4 4 4]\n",
            " [6 6 6 6 6]\n",
            " [5 5 5 5 5]]\n",
            "4\n"
          ]
        }
      ]
    },
    {
      "cell_type": "code",
      "source": [
        "# Matrices in Numpy and associated functions\n",
        "A = np.asmatrix(([1,6,2],[-7,9,2],[1,0,-6]))\n",
        "print(A)\n",
        "print(A.T)\n",
        "print(A[0,0])\n",
        "print(np.trace(A))\n",
        "print(np.linalg.inv(A))"
      ],
      "metadata": {
        "colab": {
          "base_uri": "https://localhost:8080/"
        },
        "id": "xo2F3DW-4LW7",
        "outputId": "571146c0-489f-4b2a-a07b-431a58d689ec"
      },
      "execution_count": null,
      "outputs": [
        {
          "output_type": "stream",
          "name": "stdout",
          "text": [
            "[[ 1  6  2]\n",
            " [-7  9  2]\n",
            " [ 1  0 -6]]\n",
            "[[ 1 -7  1]\n",
            " [ 6  9  0]\n",
            " [ 2  2 -6]]\n",
            "1\n",
            "4\n",
            "[[ 0.17307692 -0.11538462  0.01923077]\n",
            " [ 0.12820513  0.02564103  0.05128205]\n",
            " [ 0.02884615 -0.01923077 -0.16346154]]\n"
          ]
        }
      ]
    },
    {
      "cell_type": "markdown",
      "source": [
        "### 1.2.2. Orthogonality"
      ],
      "metadata": {
        "id": "ZUaAapVtxoLj"
      }
    },
    {
      "cell_type": "code",
      "source": [
        "# Dot product and norm with numpy\n",
        "\n",
        "a = np.array([1,1,2])\n",
        "b = np.array([4,6,1])\n",
        "\n",
        "print(np.dot(a,b))\n",
        "print(np.linalg.norm(a))\n",
        "print(np.linalg.norm(b))"
      ],
      "metadata": {
        "id": "-bfenpjVx9mV",
        "colab": {
          "base_uri": "https://localhost:8080/"
        },
        "outputId": "0ceff8a5-c360-4793-bfeb-6b9f7c1f3257"
      },
      "execution_count": null,
      "outputs": [
        {
          "output_type": "stream",
          "name": "stdout",
          "text": [
            "12\n",
            "2.449489742783178\n",
            "7.280109889280518\n"
          ]
        }
      ]
    },
    {
      "cell_type": "code",
      "source": [
        "# Angle between any two vectors\n",
        "\n",
        "def angle_between_vectors(a,b):\n",
        "  return np.arccos(np.dot(a,b) / (np.linalg.norm(a) * np.linalg.norm(b)))\n",
        "\n",
        "print(angle_between_vectors(a,b)*180/np.pi, \" Degrees\")"
      ],
      "metadata": {
        "colab": {
          "base_uri": "https://localhost:8080/"
        },
        "id": "FGGxZR0PDhum",
        "outputId": "45bf015c-25f5-425a-aee4-5d358907393a"
      },
      "execution_count": null,
      "outputs": [
        {
          "output_type": "stream",
          "name": "stdout",
          "text": [
            "47.706656136985565  Degrees\n"
          ]
        }
      ]
    },
    {
      "cell_type": "code",
      "source": [
        "# A function that checks if two vectors are orthogonal\n",
        "\n",
        "def check_orthogonality(a,b):\n",
        "  return True if np.dot(a,b) == 0 else False\n",
        "\n",
        "c = (1,0)\n",
        "d = (0,1)\n",
        "\n",
        "print(check_orthogonality(a,b))\n",
        "print(check_orthogonality(c,d))\n",
        "print(angle_between_vectors(c,d)*180/np.pi, \" Degrees\")"
      ],
      "metadata": {
        "colab": {
          "base_uri": "https://localhost:8080/"
        },
        "id": "K74Q3Il5FLlB",
        "outputId": "e5e4bb73-538c-42ed-8f19-dd7ca950e934"
      },
      "execution_count": null,
      "outputs": [
        {
          "output_type": "stream",
          "name": "stdout",
          "text": [
            "False\n",
            "True\n",
            "90.0  Degrees\n"
          ]
        }
      ]
    },
    {
      "cell_type": "code",
      "source": [
        "# The Projection of vector b onto another vector a\n",
        "\n",
        "def projection(a,b):\n",
        "  return np.multiply((np.dot(a,b) / (np.linalg.norm(a)**2)), a)\n",
        "\n",
        "print(projection(a,b))\n",
        "print(projection(b,a))"
      ],
      "metadata": {
        "colab": {
          "base_uri": "https://localhost:8080/"
        },
        "id": "oIXRKpVBG0U9",
        "outputId": "fdd9368a-4b13-41da-efbf-4db9b89404d3"
      },
      "execution_count": null,
      "outputs": [
        {
          "output_type": "stream",
          "name": "stdout",
          "text": [
            "[2. 2. 4.]\n",
            "[0.90566038 1.35849057 0.22641509]\n"
          ]
        }
      ]
    },
    {
      "cell_type": "markdown",
      "source": [
        "### 1.2.3. Gram–Schmidt process"
      ],
      "metadata": {
        "id": "MdM4Cnz5xrsy"
      }
    },
    {
      "cell_type": "code",
      "source": [
        "# Function adapting the Gram-Shmidt algorithm that constructs an orthogonal basis\n",
        "\n",
        "def gram_schmidt(A):\n",
        "  V = np.float64(np.copy(A))\n",
        "  U = np.float64(np.copy(A))\n",
        "\n",
        "  for i in range(0, V.shape[1]):\n",
        "    v = V[:,i]\n",
        "\n",
        "    u = v\n",
        "    for k in range(0,i):\n",
        "      u -= projection(V[:,k],v)\n",
        "    U[:,i] = u / np.linalg.norm(u)\n",
        "\n",
        "  return U\n",
        "\n",
        "A = np.asmatrix(([3,2,0],[1,2,0],[0,0,1]))\n",
        "print(A)\n",
        "print(gram_schmidt(A))"
      ],
      "metadata": {
        "id": "itUvESDbx-H-",
        "colab": {
          "base_uri": "https://localhost:8080/"
        },
        "outputId": "79d19341-a31c-4f99-845d-e071a3b2c846"
      },
      "execution_count": null,
      "outputs": [
        {
          "output_type": "stream",
          "name": "stdout",
          "text": [
            "[[3 2 0]\n",
            " [1 2 0]\n",
            " [0 0 1]]\n",
            "[[ 0.9486833  -0.31622777  0.        ]\n",
            " [ 0.31622777  0.9486833   0.        ]\n",
            " [ 0.          0.          1.        ]]\n"
          ]
        }
      ]
    },
    {
      "cell_type": "markdown",
      "source": [
        "### 1.2.4 Eigenvalues and eigenvectors"
      ],
      "metadata": {
        "id": "ysgq3e-exsLz"
      }
    },
    {
      "cell_type": "code",
      "source": [
        "#Eigenvalues and eigenvectors of matrix with numpy\n",
        "\n",
        "M = np.asmatrix([[1,1,3,5],[2,-3,5,2],[-1,0,9,-3],[-9,0,1,3]])\n",
        "\n",
        "eigenvalues, eigenvectors = np.linalg.eig(M)\n",
        "print(eigenvalues)\n",
        "print(eigenvectors)"
      ],
      "metadata": {
        "id": "Y9ELUAcVx-ry",
        "colab": {
          "base_uri": "https://localhost:8080/"
        },
        "outputId": "709351d6-ff02-4be4-a1be-c5500b22c13d"
      },
      "execution_count": null,
      "outputs": [
        {
          "output_type": "stream",
          "name": "stdout",
          "text": [
            "[-3.5369817 +0.j          2.06600726+7.33145344j  2.06600726-7.33145344j\n",
            "  9.40496718+0.j        ]\n",
            "[[ 0.08051474+0.j         -0.09646418+0.57334064j -0.09646418-0.57334064j\n",
            "   0.2388482 +0.j        ]\n",
            " [-0.99059247+0.j         -0.1176492 +0.27465442j -0.1176492 -0.27465442j\n",
            "   0.36098112+0.j        ]\n",
            " [ 0.03178451+0.j         -0.195068  -0.12356392j -0.195068  +0.12356392j\n",
            "   0.87938169+0.j        ]\n",
            " [ 0.10598901+0.j         -0.7206797 +0.j         -0.7206797 -0.j\n",
            "  -0.19832298+0.j        ]]\n"
          ]
        }
      ]
    },
    {
      "cell_type": "code",
      "source": [
        "# Singular Value Decomposition of a matrix with numpy\n",
        "\n",
        "U, D, VT, = np.linalg.svd(M)\n",
        "\n",
        "print(U * np.diag(D) * VT)"
      ],
      "metadata": {
        "colab": {
          "base_uri": "https://localhost:8080/"
        },
        "id": "1dL90vG6VzDB",
        "outputId": "ef38c49a-34a6-4630-e276-567e0e75031a"
      },
      "execution_count": null,
      "outputs": [
        {
          "output_type": "stream",
          "name": "stdout",
          "text": [
            "[[ 1.00000000e+00  1.00000000e+00  3.00000000e+00  5.00000000e+00]\n",
            " [ 2.00000000e+00 -3.00000000e+00  5.00000000e+00  2.00000000e+00]\n",
            " [-1.00000000e+00  2.79595547e-16  9.00000000e+00 -3.00000000e+00]\n",
            " [-9.00000000e+00  5.08957403e-16  1.00000000e+00  3.00000000e+00]]\n"
          ]
        }
      ]
    }
  ]
}